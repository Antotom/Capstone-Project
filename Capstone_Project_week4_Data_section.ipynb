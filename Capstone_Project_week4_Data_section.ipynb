{
 "cells": [
  {
   "cell_type": "markdown",
   "metadata": {},
   "source": [
    "# Project title: Where to sell your organic food production on the Paris marketplaces?"
   ]
  },
  {
   "cell_type": "markdown",
   "metadata": {},
   "source": [
    "## Data description to solve the Business Problem:\n",
    "\n",
    "The city hall of Paris provides a dataset of all the marketplaces in the inner Paris including the suburbs at the following link:\n",
    "https://opendata.paris.fr/explore/dataset/liste_des_marches_de_quartier_a_paris/table/\n",
    "\n",
    "This dataset will need to be prepared and modified for further analysis but it includes all of the useful information needed for the project (city district, name and type of the marketplace, address, latitude, longitude…).\n",
    "\n",
    "We will use Python and its famous library for data analysis Pandas to prepare the data. This is the first step prior to the following analysis:\n",
    "<br> - First, we will leverage the Foursquare API to identify and explore the top venues close to each marketplace in the inner Paris. Then, we will be able to group the marketplaces into clusters thanks to the k-means clustering algorithm. \n",
    "<br> - Finally, we will take advantage of the Folium library to locate on a map all of the 83 marketplaces dedicated to food to visualize the neighborhoods in New York City and their emerging clusters."
   ]
  },
  {
   "cell_type": "markdown",
   "metadata": {},
   "source": [
    "## Project Disclaimer:\n",
    "\n",
    "This project is intended for educational and information purposes only. It is a first study that does not take into account all of the needed parameters for a complete business decision.\n",
    "\n",
    "Potential sellers/farmers would indeed need to carry out further investigations before renting a spot in a particular marketplace (e.g. study of the present competitors and their prices, schedule of the marketplace, place renting…)."
   ]
  }
 ],
 "metadata": {
  "kernelspec": {
   "display_name": "Python 3",
   "language": "python",
   "name": "python3"
  },
  "language_info": {
   "codemirror_mode": {
    "name": "ipython",
    "version": 3
   },
   "file_extension": ".py",
   "mimetype": "text/x-python",
   "name": "python",
   "nbconvert_exporter": "python",
   "pygments_lexer": "ipython3",
   "version": "3.7.1"
  }
 },
 "nbformat": 4,
 "nbformat_minor": 2
}
