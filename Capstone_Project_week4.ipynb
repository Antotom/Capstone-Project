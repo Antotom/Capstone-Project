{
 "cells": [
  {
   "cell_type": "markdown",
   "metadata": {},
   "source": [
    "# Project title: Where to sell your organic food production on the Paris marketplaces?"
   ]
  },
  {
   "cell_type": "markdown",
   "metadata": {},
   "source": [
    "## Introduction:\n",
    "\n",
    "This project aims at giving interesting insights on the marketplaces in the inner Paris so that small/medium farmers can decide the best location to sell organic products directly to the customer.\n",
    "\n",
    "<br>\n",
    "Note: this project can also be useful for tourists to discover the different kinds of food marketplaces and their surroundings. Indeed, it allows them to enjoy the Parisian way of life and so live a different experience when visiting the city."
   ]
  },
  {
   "cell_type": "markdown",
   "metadata": {},
   "source": [
    "![alt text](https://upload.wikimedia.org/wikipedia/commons/7/7e/Market%2C_Mouffetard%2C_Paris_15_October_2009.jpg)"
   ]
  },
  {
   "cell_type": "markdown",
   "metadata": {},
   "source": [
    "_Mouffetard Market, Paris 15 October 2009: image under creativecommons.org_"
   ]
  },
  {
   "cell_type": "markdown",
   "metadata": {},
   "source": [
    "## Business Problem:\n",
    "\n",
    "More and more small/medium farmers (or even newcomers in the farming business) are deciding to grow organic food and target “conscious” customers.\n",
    "<br>However they may face various difficulties and especially:\n",
    "<br> - Despite the topical trend for organic food, it is hard to target and then deliver the products to the right customers that are willing to pay more for this kind of food.\n",
    "<br> - Retailers (both large and organic food specialized) do exist and are representing the majority of the market, but business relations may be complicated due to their negotiation power and the quantities requested to deal with them.\n",
    "\n",
    "__Marketplaces can be the solution for small/medium farmers.__\n",
    "<br> - These places have indeed different interesting characteristics:\n",
    "<br> - They are generally in public areas within cities where traders/farmers can directly display and sell their products to the customers during a short period of time (few hours one or few times a week)\n",
    "<br> - They are supposed to be cheap for sellers (who need to pay a fee to the public/private organizer to rent a spot)\n",
    "<br> - Most marketplaces are food related but there are dedicated marketplaces for other products such as clothes, books or even birds\n",
    "<br> - They offer a nice visibility\n",
    "<br> - They are friendly places and part of the French tradition\n",
    "<br>\n",
    "<br>\n",
    "__Thereby, marketplaces for food are a very efficient channel for small/medium farmers to promote their farm and production processes, and sell their products “hand over hand”.__\n",
    "\n",
    "However, there are 94 marketplaces dispersed all over the inner Paris (the first 20 districts only without taking into account the suburbs or “banlieue”): this represents a lot of data and it is complicated for a “new-comer” to have many insights on the different features of the marketplaces and more importantly of their surroundings (district, most common venues…). In fact we want here to target “conscious” customers who are willing to pay for organic products. "
   ]
  },
  {
   "cell_type": "markdown",
   "metadata": {},
   "source": [
    "## Data description to solve the Business Problem:\n",
    "\n",
    "The city hall of Paris provides a dataset of all the marketplaces in the inner Paris including the suburbs at the following link:\n",
    "https://opendata.paris.fr/explore/dataset/liste_des_marches_de_quartier_a_paris/table/\n",
    "\n",
    "This dataset will need to be prepared and modified for further analysis but it includes all of the useful information needed for the project (city district, name and type of the marketplace, address, latitude, longitude…).\n",
    "\n",
    "We will use Python and its famous library for data analysis Pandas to prepare the data. This is the first step prior to the following analysis:\n",
    "<br> - First, we will leverage the Foursquare API to identify and explore the top venues close to each marketplace in the inner Paris. Then, we will be able to group the marketplaces into clusters thanks to the k-means clustering algorithm. \n",
    "<br> - Finally, we will take advantage of the Folium library to locate on a map all of the 83 marketplaces dedicated to food to visualize the neighborhoods in New York City and their emerging clusters."
   ]
  },
  {
   "cell_type": "markdown",
   "metadata": {},
   "source": [
    "## Project Disclaimer:\n",
    "\n",
    "This project is intended for educational and information purposes only. It is a first study that does not take into account all of the needed parameters for a complete business decision.\n",
    "\n",
    "Potential sellers/farmers would indeed need to carry out further investigations before renting a spot in a particular marketplace (e.g. study of the present competitors and their prices, schedule of the marketplace, place renting…)."
   ]
  }
 ],
 "metadata": {
  "kernelspec": {
   "display_name": "Python 3",
   "language": "python",
   "name": "python3"
  },
  "language_info": {
   "codemirror_mode": {
    "name": "ipython",
    "version": 3
   },
   "file_extension": ".py",
   "mimetype": "text/x-python",
   "name": "python",
   "nbconvert_exporter": "python",
   "pygments_lexer": "ipython3",
   "version": "3.7.1"
  }
 },
 "nbformat": 4,
 "nbformat_minor": 2
}
