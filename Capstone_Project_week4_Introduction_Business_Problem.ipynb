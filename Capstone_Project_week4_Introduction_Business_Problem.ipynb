{
 "cells": [
  {
   "cell_type": "markdown",
   "metadata": {},
   "source": [
    "# Project title: Where to sell your organic food production on the Paris marketplaces?"
   ]
  },
  {
   "cell_type": "markdown",
   "metadata": {},
   "source": [
    "## Introduction:\n",
    "\n",
    "This project aims at giving interesting insights on the marketplaces in the inner Paris so that small/medium farmers can decide the best location to sell organic products directly to the customer.\n",
    "\n",
    "<br>\n",
    "Note: this project can also be useful for tourists to discover the different kinds of food marketplaces and their surroundings. Indeed, it allows them to enjoy the Parisian way of life and so live a different experience when visiting the city."
   ]
  },
  {
   "cell_type": "markdown",
   "metadata": {},
   "source": [
    "![alt text](https://upload.wikimedia.org/wikipedia/commons/7/7e/Market%2C_Mouffetard%2C_Paris_15_October_2009.jpg)"
   ]
  },
  {
   "cell_type": "markdown",
   "metadata": {},
   "source": [
    "_Mouffetard Market, Paris 15 October 2009: image under creativecommons.org_"
   ]
  },
  {
   "cell_type": "markdown",
   "metadata": {},
   "source": [
    "## Business Problem:\n",
    "\n",
    "More and more small/medium farmers (or even newcomers in the farming business) are deciding to grow organic food and target “conscious” customers.\n",
    "<br>However they may face various difficulties and especially:\n",
    "<br> - Despite the topical trend for organic food, it is hard to target and then deliver the products to the right customers that are willing to pay more for this kind of food.\n",
    "<br> - Retailers (both large and organic food specialized) do exist and are representing the majority of the market, but business relations may be complicated due to their negotiation power and the quantities requested to deal with them.\n",
    "\n",
    "__Marketplaces can be the solution for small/medium farmers.__\n",
    "<br> - These places have indeed different interesting characteristics:\n",
    "<br> - They are generally in public areas within cities where traders/farmers can directly display and sell their products to the customers during a short period of time (few hours one or few times a week)\n",
    "<br> - They are supposed to be cheap for sellers (who need to pay a fee to the public/private organizer to rent a spot)\n",
    "<br> - Most marketplaces are food related but there are dedicated marketplaces for other products such as clothes, books or even birds\n",
    "<br> - They offer a nice visibility\n",
    "<br> - They are friendly places and part of the French tradition\n",
    "<br>\n",
    "<br>\n",
    "__Thereby, marketplaces for food are a very efficient channel for small/medium farmers to promote their farm and production processes, and sell their products “hand over hand”.__\n",
    "\n",
    "However, there are 94 marketplaces dispersed all over the inner Paris (the first 20 districts only without taking into account the suburbs or “banlieue”): this represents a lot of data and it is complicated for a “new-comer” to have many insights on the different features of the marketplaces and more importantly of their surroundings (district, most common venues…). In fact we want here to target “conscious” customers who are willing to pay for organic products. "
   ]
  }
 ],
 "metadata": {
  "kernelspec": {
   "display_name": "Python 3",
   "language": "python",
   "name": "python3"
  },
  "language_info": {
   "codemirror_mode": {
    "name": "ipython",
    "version": 3
   },
   "file_extension": ".py",
   "mimetype": "text/x-python",
   "name": "python",
   "nbconvert_exporter": "python",
   "pygments_lexer": "ipython3",
   "version": "3.7.1"
  }
 },
 "nbformat": 4,
 "nbformat_minor": 2
}
